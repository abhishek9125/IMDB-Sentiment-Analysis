{
 "cells": [
  {
   "cell_type": "markdown",
   "metadata": {},
   "source": [
    "# Classify Movie Reviews as Positive or Negative"
   ]
  },
  {
   "cell_type": "code",
   "execution_count": 1,
   "metadata": {},
   "outputs": [
    {
     "name": "stderr",
     "output_type": "stream",
     "text": [
      "Using TensorFlow backend.\n"
     ]
    }
   ],
   "source": [
    "from keras.datasets import imdb\n",
    "import numpy as np\n",
    "import matplotlib.pyplot as plt"
   ]
  },
  {
   "cell_type": "markdown",
   "metadata": {},
   "source": [
    "# Data Preparation"
   ]
  },
  {
   "cell_type": "code",
   "execution_count": 2,
   "metadata": {},
   "outputs": [],
   "source": [
    "((x_train,y_train),(x_test,y_test)) = imdb.load_data(num_words=10000)"
   ]
  },
  {
   "cell_type": "code",
   "execution_count": 3,
   "metadata": {},
   "outputs": [
    {
     "data": {
      "text/plain": [
       "(25000, 25000)"
      ]
     },
     "execution_count": 3,
     "metadata": {},
     "output_type": "execute_result"
    }
   ],
   "source": [
    "len(x_train),len(x_test)"
   ]
  },
  {
   "cell_type": "code",
   "execution_count": 4,
   "metadata": {},
   "outputs": [
    {
     "name": "stdout",
     "output_type": "stream",
     "text": [
      "[1, 14, 22, 16, 43, 530, 973, 1622, 1385, 65, 458, 4468, 66, 3941, 4, 173, 36, 256, 5, 25, 100, 43, 838, 112, 50, 670, 2, 9, 35, 480, 284, 5, 150, 4, 172, 112, 167, 2, 336, 385, 39, 4, 172, 4536, 1111, 17, 546, 38, 13, 447, 4, 192, 50, 16, 6, 147, 2025, 19, 14, 22, 4, 1920, 4613, 469, 4, 22, 71, 87, 12, 16, 43, 530, 38, 76, 15, 13, 1247, 4, 22, 17, 515, 17, 12, 16, 626, 18, 2, 5, 62, 386, 12, 8, 316, 8, 106, 5, 4, 2223, 5244, 16, 480, 66, 3785, 33, 4, 130, 12, 16, 38, 619, 5, 25, 124, 51, 36, 135, 48, 25, 1415, 33, 6, 22, 12, 215, 28, 77, 52, 5, 14, 407, 16, 82, 2, 8, 4, 107, 117, 5952, 15, 256, 4, 2, 7, 3766, 5, 723, 36, 71, 43, 530, 476, 26, 400, 317, 46, 7, 4, 2, 1029, 13, 104, 88, 4, 381, 15, 297, 98, 32, 2071, 56, 26, 141, 6, 194, 7486, 18, 4, 226, 22, 21, 134, 476, 26, 480, 5, 144, 30, 5535, 18, 51, 36, 28, 224, 92, 25, 104, 4, 226, 65, 16, 38, 1334, 88, 12, 16, 283, 5, 16, 4472, 113, 103, 32, 15, 16, 5345, 19, 178, 32]\n"
     ]
    }
   ],
   "source": [
    "print(x_train[0]) # Index of words from vocab dictionary made by keras"
   ]
  },
  {
   "cell_type": "code",
   "execution_count": 5,
   "metadata": {},
   "outputs": [],
   "source": [
    "word_index = imdb.get_word_index()"
   ]
  },
  {
   "cell_type": "code",
   "execution_count": 6,
   "metadata": {},
   "outputs": [],
   "source": [
    "index_words = dict([value,key] for (key,value) in word_index.items()) #Exchanged Key-Value Pairs"
   ]
  },
  {
   "cell_type": "code",
   "execution_count": 7,
   "metadata": {},
   "outputs": [],
   "source": [
    "actual_review = ' '.join([index_words.get(index-3,'?') for index in x_train[0]]) #Formed the sentence (Stop Words Excluded by Keras)"
   ]
  },
  {
   "cell_type": "markdown",
   "metadata": {},
   "source": [
    "# Vectorizing the Data"
   ]
  },
  {
   "cell_type": "code",
   "execution_count": 8,
   "metadata": {},
   "outputs": [],
   "source": [
    "def vectorizeSentences(sentences,dim=10000):\n",
    "    outputs = np.zeros((len(sentences),dim))\n",
    "    \n",
    "    for i,idx in enumerate(sentences):\n",
    "        outputs[i,idx] = 1\n",
    "        \n",
    "    return outputs"
   ]
  },
  {
   "cell_type": "code",
   "execution_count": 9,
   "metadata": {},
   "outputs": [],
   "source": [
    "x_train = vectorizeSentences(x_train)   #Data is vectorized. If a word is present corresponding feature is 1 else 0.\n",
    "x_test = vectorizeSentences(x_test)"
   ]
  },
  {
   "cell_type": "code",
   "execution_count": 10,
   "metadata": {},
   "outputs": [
    {
     "data": {
      "text/plain": [
       "array([0., 1., 1., ..., 0., 0., 0.])"
      ]
     },
     "execution_count": 10,
     "metadata": {},
     "output_type": "execute_result"
    }
   ],
   "source": [
    "x_train[0]"
   ]
  },
  {
   "cell_type": "code",
   "execution_count": 11,
   "metadata": {},
   "outputs": [],
   "source": [
    "y_train = np.asarray(y_train).astype('float32')\n",
    "y_test = np.asarray(y_test).astype('float32')"
   ]
  },
  {
   "cell_type": "markdown",
   "metadata": {},
   "source": [
    "# Model Architecture"
   ]
  },
  {
   "cell_type": "code",
   "execution_count": 12,
   "metadata": {},
   "outputs": [],
   "source": [
    "from keras import models\n",
    "from keras.layers import Dense"
   ]
  },
  {
   "cell_type": "code",
   "execution_count": 13,
   "metadata": {},
   "outputs": [],
   "source": [
    "#Define Model\n",
    "model = models.Sequential()\n",
    "model.add(Dense(16,activation='relu',input_shape=(10000,)))\n",
    "model.add(Dense(16,activation='relu'))\n",
    "model.add(Dense(1,activation='sigmoid'))"
   ]
  },
  {
   "cell_type": "code",
   "execution_count": 14,
   "metadata": {},
   "outputs": [],
   "source": [
    "#Compile Model\n",
    "model.compile(optimizer=\"rmsprop\",loss=\"binary_crossentropy\",metrics=[\"accuracy\"])"
   ]
  },
  {
   "cell_type": "code",
   "execution_count": 15,
   "metadata": {},
   "outputs": [
    {
     "name": "stdout",
     "output_type": "stream",
     "text": [
      "Model: \"sequential_1\"\n",
      "_________________________________________________________________\n",
      "Layer (type)                 Output Shape              Param #   \n",
      "=================================================================\n",
      "dense_1 (Dense)              (None, 16)                160016    \n",
      "_________________________________________________________________\n",
      "dense_2 (Dense)              (None, 16)                272       \n",
      "_________________________________________________________________\n",
      "dense_3 (Dense)              (None, 1)                 17        \n",
      "=================================================================\n",
      "Total params: 160,305\n",
      "Trainable params: 160,305\n",
      "Non-trainable params: 0\n",
      "_________________________________________________________________\n"
     ]
    }
   ],
   "source": [
    "model.summary()"
   ]
  },
  {
   "cell_type": "markdown",
   "metadata": {},
   "source": [
    "# Training and Validation"
   ]
  },
  {
   "cell_type": "code",
   "execution_count": 16,
   "metadata": {},
   "outputs": [],
   "source": [
    "x_val = x_train[:5000]\n",
    "x_train = x_train[5000:]\n",
    "\n",
    "y_val = y_train[:5000]\n",
    "y_train = y_train[5000:]"
   ]
  },
  {
   "cell_type": "code",
   "execution_count": 17,
   "metadata": {},
   "outputs": [
    {
     "name": "stdout",
     "output_type": "stream",
     "text": [
      "Train on 20000 samples, validate on 5000 samples\n",
      "Epoch 1/20\n",
      "20000/20000 [==============================] - 3s 158us/step - loss: 0.4782 - accuracy: 0.8107 - val_loss: 0.3914 - val_accuracy: 0.8450\n",
      "Epoch 2/20\n",
      "20000/20000 [==============================] - 3s 125us/step - loss: 0.2733 - accuracy: 0.9081 - val_loss: 0.2911 - val_accuracy: 0.8862\n",
      "Epoch 3/20\n",
      "20000/20000 [==============================] - 3s 132us/step - loss: 0.2083 - accuracy: 0.9267 - val_loss: 0.2746 - val_accuracy: 0.8898\n",
      "Epoch 4/20\n",
      "20000/20000 [==============================] - 3s 137us/step - loss: 0.1677 - accuracy: 0.9433 - val_loss: 0.2970 - val_accuracy: 0.8834\n",
      "Epoch 5/20\n",
      "20000/20000 [==============================] - 3s 134us/step - loss: 0.1441 - accuracy: 0.9512 - val_loss: 0.3636 - val_accuracy: 0.86040s - loss: 0.144\n",
      "Epoch 6/20\n",
      "20000/20000 [==============================] - 3s 127us/step - loss: 0.1225 - accuracy: 0.9584 - val_loss: 0.3019 - val_accuracy: 0.8876\n",
      "Epoch 7/20\n",
      "20000/20000 [==============================] - 3s 126us/step - loss: 0.1095 - accuracy: 0.9630 - val_loss: 0.3319 - val_accuracy: 0.8816\n",
      "Epoch 8/20\n",
      "20000/20000 [==============================] - 3s 127us/step - loss: 0.0929 - accuracy: 0.9714 - val_loss: 0.3400 - val_accuracy: 0.8830\n",
      "Epoch 9/20\n",
      "20000/20000 [==============================] - 3s 128us/step - loss: 0.0790 - accuracy: 0.9754 - val_loss: 0.3653 - val_accuracy: 0.8820\n",
      "Epoch 10/20\n",
      "20000/20000 [==============================] - 3s 128us/step - loss: 0.0697 - accuracy: 0.9794 - val_loss: 0.3931 - val_accuracy: 0.8782\n",
      "Epoch 11/20\n",
      "20000/20000 [==============================] - 3s 129us/step - loss: 0.0614 - accuracy: 0.9811 - val_loss: 0.4150 - val_accuracy: 0.8754\n",
      "Epoch 12/20\n",
      "20000/20000 [==============================] - 3s 134us/step - loss: 0.0497 - accuracy: 0.9863 - val_loss: 0.4716 - val_accuracy: 0.8674\n",
      "Epoch 13/20\n",
      "20000/20000 [==============================] - 3s 128us/step - loss: 0.0415 - accuracy: 0.9897 - val_loss: 0.5453 - val_accuracy: 0.8650\n",
      "Epoch 14/20\n",
      "20000/20000 [==============================] - 2s 120us/step - loss: 0.0405 - accuracy: 0.9894 - val_loss: 0.5054 - val_accuracy: 0.8728\n",
      "Epoch 15/20\n",
      "20000/20000 [==============================] - 3s 130us/step - loss: 0.0270 - accuracy: 0.9944 - val_loss: 0.5411 - val_accuracy: 0.8680\n",
      "Epoch 16/20\n",
      "20000/20000 [==============================] - 3s 128us/step - loss: 0.0262 - accuracy: 0.9938 - val_loss: 0.5834 - val_accuracy: 0.8696\n",
      "Epoch 17/20\n",
      "20000/20000 [==============================] - 3s 131us/step - loss: 0.0226 - accuracy: 0.9948 - val_loss: 0.6173 - val_accuracy: 0.8662\n",
      "Epoch 18/20\n",
      "20000/20000 [==============================] - 3s 133us/step - loss: 0.0175 - accuracy: 0.9967 - val_loss: 0.6529 - val_accuracy: 0.8686\n",
      "Epoch 19/20\n",
      "20000/20000 [==============================] - 3s 127us/step - loss: 0.0151 - accuracy: 0.9973 - val_loss: 0.6979 - val_accuracy: 0.8602\n",
      "Epoch 20/20\n",
      "20000/20000 [==============================] - 3s 126us/step - loss: 0.0142 - accuracy: 0.9969 - val_loss: 0.7167 - val_accuracy: 0.8652\n"
     ]
    }
   ],
   "source": [
    "hist = model.fit(x_train,y_train,epochs=20,batch_size=512,validation_data=(x_val,y_val))"
   ]
  },
  {
   "cell_type": "markdown",
   "metadata": {},
   "source": [
    "# Visualization"
   ]
  },
  {
   "cell_type": "code",
   "execution_count": 18,
   "metadata": {},
   "outputs": [],
   "source": [
    "h = hist.history"
   ]
  },
  {
   "cell_type": "code",
   "execution_count": 19,
   "metadata": {},
   "outputs": [
    {
     "data": {
      "image/png": "[encoded data removed]",
      "text/plain": [
       "<Figure size 432x288 with 1 Axes>"
      ]
     },
     "metadata": {
      "needs_background": "light"
     },
     "output_type": "display_data"
    }
   ],
   "source": [
    "plt.plot(h['val_loss'],label = \"Validation Loss\")\n",
    "plt.plot(h['loss'],label = \"Training Loss\")\n",
    "plt.xlabel(\"Epochs\")\n",
    "plt.ylabel(\"Loss\")\n",
    "plt.legend()\n",
    "plt.show()"
   ]
  },
  {
   "cell_type": "code",
   "execution_count": 20,
   "metadata": {},
   "outputs": [
    {
     "data": {
      "image/png": "[encoded data removed]",
      "text/plain": [
       "<Figure size 432x288 with 1 Axes>"
      ]
     },
     "metadata": {
      "needs_background": "light"
     },
     "output_type": "display_data"
    }
   ],
   "source": [
    "plt.plot(h['val_accuracy'],label = \"Validation Accuracy\")\n",
    "plt.plot(h['accuracy'],label = \"Training Accuracy\")\n",
    "plt.xlabel(\"Epochs\")\n",
    "plt.ylabel(\"Accuracy\")\n",
    "plt.legend()\n",
    "plt.show()"
   ]
  },
  {
   "cell_type": "code",
   "execution_count": 21,
   "metadata": {},
   "outputs": [
    {
     "name": "stdout",
     "output_type": "stream",
     "text": [
      "25000/25000 [==============================] - 3s 135us/step\n"
     ]
    },
    {
     "data": {
      "text/plain": [
       "[0.7822607191967964, 0.8503999710083008]"
      ]
     },
     "execution_count": 21,
     "metadata": {},
     "output_type": "execute_result"
    }
   ],
   "source": [
    "model.evaluate(x_test,y_test)  # Gives Loss,Accuracy"
   ]
  },
  {
   "cell_type": "code",
   "execution_count": 22,
   "metadata": {},
   "outputs": [
    {
     "name": "stdout",
     "output_type": "stream",
     "text": [
      "20000/20000 [==============================] - 2s 123us/step\n"
     ]
    },
    {
     "data": {
      "text/plain": [
       "[0.006224263089615852, 0.9993500113487244]"
      ]
     },
     "execution_count": 22,
     "metadata": {},
     "output_type": "execute_result"
    }
   ],
   "source": [
    "model.evaluate(x_train,y_train)"
   ]
  },
  {
   "cell_type": "code",
   "execution_count": 23,
   "metadata": {},
   "outputs": [],
   "source": [
    "#We are getting bad validation accuracy due to overfitting hence we should run the model only for 3 to 5 epochs"
   ]
  },
  {
   "cell_type": "code",
   "execution_count": 24,
   "metadata": {},
   "outputs": [],
   "source": [
    "#Define Model\n",
    "model = models.Sequential()\n",
    "model.add(Dense(16,activation='relu',input_shape=(10000,)))\n",
    "model.add(Dense(16,activation='relu'))\n",
    "model.add(Dense(1,activation='sigmoid'))"
   ]
  },
  {
   "cell_type": "code",
   "execution_count": 25,
   "metadata": {},
   "outputs": [],
   "source": [
    "#Compile Model\n",
    "model.compile(optimizer=\"rmsprop\",loss=\"binary_crossentropy\",metrics=[\"accuracy\"])"
   ]
  },
  {
   "cell_type": "code",
   "execution_count": 26,
   "metadata": {},
   "outputs": [],
   "source": [
    "x_val = x_train[:5000]\n",
    "x_train = x_train[5000:]\n",
    "\n",
    "y_val = y_train[:5000]\n",
    "y_train = y_train[5000:]"
   ]
  },
  {
   "cell_type": "code",
   "execution_count": 27,
   "metadata": {},
   "outputs": [
    {
     "name": "stdout",
     "output_type": "stream",
     "text": [
      "Train on 15000 samples, validate on 5000 samples\n",
      "Epoch 1/4\n",
      "15000/15000 [==============================] - 2s 148us/step - loss: 0.5230 - accuracy: 0.7913 - val_loss: 0.3893 - val_accuracy: 0.8702\n",
      "Epoch 2/4\n",
      "15000/15000 [==============================] - 2s 136us/step - loss: 0.3069 - accuracy: 0.9006 - val_loss: 0.3008 - val_accuracy: 0.8870\n",
      "Epoch 3/4\n",
      "15000/15000 [==============================] - 2s 134us/step - loss: 0.2209 - accuracy: 0.9273 - val_loss: 0.2759 - val_accuracy: 0.8908\n",
      "Epoch 4/4\n",
      "15000/15000 [==============================] - 2s 140us/step - loss: 0.1749 - accuracy: 0.9431 - val_loss: 0.2697 - val_accuracy: 0.8906\n"
     ]
    }
   ],
   "source": [
    "hist = model.fit(x_train,y_train,epochs=4,batch_size=512,validation_data=(x_val,y_val))"
   ]
  },
  {
   "cell_type": "code",
   "execution_count": 28,
   "metadata": {},
   "outputs": [],
   "source": [
    "h = hist.history"
   ]
  },
  {
   "cell_type": "code",
   "execution_count": 29,
   "metadata": {},
   "outputs": [
    {
     "data": {
      "image/png": "[encoded data removed]",
      "text/plain": [
       "<Figure size 432x288 with 1 Axes>"
      ]
     },
     "metadata": {
      "needs_background": "light"
     },
     "output_type": "display_data"
    }
   ],
   "source": [
    "plt.plot(h['val_loss'],label = \"Validation Loss\")\n",
    "plt.plot(h['loss'],label = \"Training Loss\")\n",
    "plt.xlabel(\"Epochs\")\n",
    "plt.ylabel(\"Loss\")\n",
    "plt.legend()\n",
    "plt.show()"
   ]
  },
  {
   "cell_type": "code",
   "execution_count": 30,
   "metadata": {},
   "outputs": [
    {
     "data": {
      "image/png": "[encoded data removed]",
      "text/plain": [
       "<Figure size 432x288 with 1 Axes>"
      ]
     },
     "metadata": {
      "needs_background": "light"
     },
     "output_type": "display_data"
    }
   ],
   "source": [
    "plt.plot(h['val_accuracy'],label = \"Validation Accuracy\")\n",
    "plt.plot(h['accuracy'],label = \"Training Accuracy\")\n",
    "plt.xlabel(\"Epochs\")\n",
    "plt.ylabel(\"Accuracy\")\n",
    "plt.legend()\n",
    "plt.show()"
   ]
  },
  {
   "cell_type": "code",
   "execution_count": 31,
   "metadata": {},
   "outputs": [
    {
     "name": "stdout",
     "output_type": "stream",
     "text": [
      "25000/25000 [==============================] - 3s 120us/step\n"
     ]
    },
    {
     "data": {
      "text/plain": [
       "[0.29174167350292207, 0.883080005645752]"
      ]
     },
     "execution_count": 31,
     "metadata": {},
     "output_type": "execute_result"
    }
   ],
   "source": [
    "model.evaluate(x_test,y_test)  # Gives Loss,Accuracy"
   ]
  },
  {
   "cell_type": "code",
   "execution_count": 32,
   "metadata": {},
   "outputs": [
    {
     "name": "stdout",
     "output_type": "stream",
     "text": [
      "15000/15000 [==============================] - 2s 128us/step\n"
     ]
    },
    {
     "data": {
      "text/plain": [
       "[0.13245134741067888, 0.9634000062942505]"
      ]
     },
     "execution_count": 32,
     "metadata": {},
     "output_type": "execute_result"
    }
   ],
   "source": [
    "model.evaluate(x_train,y_train) #Overfitting Reduced"
   ]
  },
  {
   "cell_type": "code",
   "execution_count": 33,
   "metadata": {},
   "outputs": [],
   "source": [
    "y_pred = model.predict(x_test)"
   ]
  },
  {
   "cell_type": "code",
   "execution_count": 35,
   "metadata": {},
   "outputs": [],
   "source": [
    "sentiment = []"
   ]
  },
  {
   "cell_type": "code",
   "execution_count": 37,
   "metadata": {},
   "outputs": [],
   "source": [
    "for i in y_pred:\n",
    "    if(i>=0.5):\n",
    "        sentiment.append('Positive')\n",
    "    else:\n",
    "        sentiment.append('Negative')"
   ]
  },
  {
   "cell_type": "code",
   "execution_count": 40,
   "metadata": {},
   "outputs": [
    {
     "data": {
      "text/plain": [
       "(array([0.23956573], dtype=float32), 'Negative', 0.0)"
      ]
     },
     "execution_count": 40,
     "metadata": {},
     "output_type": "execute_result"
    }
   ],
   "source": [
    "y_pred[0],sentiment[0],y_test[0]"
   ]
  }
 ],
 "metadata": {
  "kernelspec": {
   "display_name": "Python 3",
   "language": "python",
   "name": "python3"
  },
  "language_info": {
   "codemirror_mode": {
    "name": "ipython",
    "version": 3
   },
   "file_extension": ".py",
   "mimetype": "text/x-python",
   "name": "python",
   "nbconvert_exporter": "python",
   "pygments_lexer": "ipython3",
   "version": "3.7.6"
  }
 },
 "nbformat": 4,
 "nbformat_minor": 4
}
